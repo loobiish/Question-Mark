{
 "cells": [
  {
   "cell_type": "code",
   "execution_count": 2,
   "metadata": {},
   "outputs": [
    {
     "name": "stdout",
     "output_type": "stream",
     "text": [
      "Collecting flask_whooshalchemy\n",
      "  Downloading https://files.pythonhosted.org/packages/4c/85/97e502c02b93351fcc7fd6f5570f2698ae9f29a47ccc069f7347b6e94eb1/Flask-WhooshAlchemy-0.56.tar.gz\n",
      "Requirement already satisfied: Flask-SQLAlchemy in c:\\users\\hp\\anaconda3\\lib\\site-packages (from flask_whooshalchemy) (2.4.1)\n",
      "Requirement already satisfied: SQLAlchemy in c:\\users\\hp\\anaconda3\\lib\\site-packages (from flask_whooshalchemy) (1.3.5)\n",
      "Collecting Whoosh (from flask_whooshalchemy)\n",
      "  Downloading https://files.pythonhosted.org/packages/ba/19/24d0f1f454a2c1eb689ca28d2f178db81e5024f42d82729a4ff6771155cf/Whoosh-2.7.4-py2.py3-none-any.whl (468kB)\n",
      "Collecting blinker (from flask_whooshalchemy)\n",
      "  Downloading https://files.pythonhosted.org/packages/1b/51/e2a9f3b757eb802f61dc1f2b09c8c99f6eb01cf06416c0671253536517b6/blinker-1.4.tar.gz (111kB)\n",
      "Requirement already satisfied: Flask>=0.10 in c:\\users\\hp\\anaconda3\\lib\\site-packages (from Flask-SQLAlchemy->flask_whooshalchemy) (1.1.1)\n",
      "Requirement already satisfied: click>=5.1 in c:\\users\\hp\\anaconda3\\lib\\site-packages (from Flask>=0.10->Flask-SQLAlchemy->flask_whooshalchemy) (7.0)\n",
      "Requirement already satisfied: itsdangerous>=0.24 in c:\\users\\hp\\anaconda3\\lib\\site-packages (from Flask>=0.10->Flask-SQLAlchemy->flask_whooshalchemy) (1.1.0)\n",
      "Requirement already satisfied: Werkzeug>=0.15 in c:\\users\\hp\\anaconda3\\lib\\site-packages (from Flask>=0.10->Flask-SQLAlchemy->flask_whooshalchemy) (0.15.4)\n",
      "Requirement already satisfied: Jinja2>=2.10.1 in c:\\users\\hp\\anaconda3\\lib\\site-packages (from Flask>=0.10->Flask-SQLAlchemy->flask_whooshalchemy) (2.10.1)\n",
      "Requirement already satisfied: MarkupSafe>=0.23 in c:\\users\\hp\\anaconda3\\lib\\site-packages (from Jinja2>=2.10.1->Flask>=0.10->Flask-SQLAlchemy->flask_whooshalchemy) (1.1.1)\n",
      "Building wheels for collected packages: flask-whooshalchemy, blinker\n",
      "  Building wheel for flask-whooshalchemy (setup.py): started\n",
      "  Building wheel for flask-whooshalchemy (setup.py): finished with status 'done'\n",
      "  Stored in directory: C:\\Users\\hp\\AppData\\Local\\pip\\Cache\\wheels\\a9\\ae\\7a\\948308d6b73021b8c21c06befc4fb5140b57475a688d80982a\n",
      "  Building wheel for blinker (setup.py): started\n",
      "  Building wheel for blinker (setup.py): finished with status 'done'\n",
      "  Stored in directory: C:\\Users\\hp\\AppData\\Local\\pip\\Cache\\wheels\\92\\a0\\00\\8690a57883956a301d91cf4ec999cc0b258b01e3f548f86e89\n",
      "Successfully built flask-whooshalchemy blinker\n",
      "Installing collected packages: Whoosh, blinker, flask-whooshalchemy\n",
      "Successfully installed Whoosh-2.7.4 blinker-1.4 flask-whooshalchemy-0.56\n",
      "Note: you may need to restart the kernel to use updated packages.\n"
     ]
    }
   ],
   "source": [
    "pip install flask_whooshalchemy"
   ]
  },
  {
   "cell_type": "code",
   "execution_count": 3,
   "metadata": {},
   "outputs": [
    {
     "name": "stdout",
     "output_type": "stream",
     "text": [
      "Note: you may need to restart the kernel to use updated packages.\n"
     ]
    }
   ],
   "source": [
    "pip freeze --local > requirements.txt"
   ]
  },
  {
   "cell_type": "code",
   "execution_count": 1,
   "metadata": {},
   "outputs": [
    {
     "name": "stdout",
     "output_type": "stream",
     "text": [
      "Collecting flask.ext\n",
      "  Downloading https://files.pythonhosted.org/packages/d3/06/ad88dff48ce49f2a760c5ac9a618b38a9d4afa0f00c9fbbb9884bf28d06e/Flask_Ext-0.1-py3-none-any.whl\n",
      "Requirement already satisfied: Flask in c:\\users\\hp\\anaconda3\\lib\\site-packages (from flask.ext) (1.1.1)\n",
      "Requirement already satisfied: itsdangerous>=0.24 in c:\\users\\hp\\anaconda3\\lib\\site-packages (from Flask->flask.ext) (1.1.0)\n",
      "Requirement already satisfied: click>=5.1 in c:\\users\\hp\\anaconda3\\lib\\site-packages (from Flask->flask.ext) (7.0)\n",
      "Requirement already satisfied: Werkzeug>=0.15 in c:\\users\\hp\\anaconda3\\lib\\site-packages (from Flask->flask.ext) (0.15.4)\n",
      "Requirement already satisfied: Jinja2>=2.10.1 in c:\\users\\hp\\anaconda3\\lib\\site-packages (from Flask->flask.ext) (2.10.1)\n",
      "Requirement already satisfied: MarkupSafe>=0.23 in c:\\users\\hp\\anaconda3\\lib\\site-packages (from Jinja2>=2.10.1->Flask->flask.ext) (1.1.1)\n",
      "Installing collected packages: flask.ext\n",
      "Successfully installed flask.ext\n",
      "Note: you may need to restart the kernel to use updated packages.\n"
     ]
    }
   ],
   "source": [
    "pip install flask.ext"
   ]
  },
  {
   "cell_type": "code",
   "execution_count": 1,
   "metadata": {},
   "outputs": [
    {
     "name": "stdout",
     "output_type": "stream",
     "text": [
      "Collecting flask_foo\n",
      "Note: you may need to restart the kernel to use updated packages.\n"
     ]
    },
    {
     "name": "stderr",
     "output_type": "stream",
     "text": [
      "  ERROR: Could not find a version that satisfies the requirement flask_foo (from versions: none)\n",
      "ERROR: No matching distribution found for flask_foo\n"
     ]
    }
   ],
   "source": [
    "pip install flask_foo"
   ]
  },
  {
   "cell_type": "code",
   "execution_count": 2,
   "metadata": {},
   "outputs": [
    {
     "name": "stdout",
     "output_type": "stream",
     "text": [
      "Collecting flask_whooshalchemyplus\n",
      "  Downloading https://files.pythonhosted.org/packages/c6/ba/c9f4bc2708a3121c14398642f07c6831c0b229196daca8fe1224ca57e984/Flask-WhooshAlchemyPlus-0.7.4.tar.gz\n",
      "Requirement already satisfied: Flask>=0.10.1 in c:\\users\\hp\\anaconda3\\lib\\site-packages (from flask_whooshalchemyplus) (1.1.1)\n",
      "Requirement already satisfied: Flask-SQLAlchemy>=1.0 in c:\\users\\hp\\anaconda3\\lib\\site-packages (from flask_whooshalchemyplus) (2.4.1)\n",
      "Requirement already satisfied: Whoosh>=2.6.0 in c:\\users\\hp\\anaconda3\\lib\\site-packages (from flask_whooshalchemyplus) (2.7.4)\n",
      "Requirement already satisfied: blinker>=1.3 in c:\\users\\hp\\anaconda3\\lib\\site-packages (from flask_whooshalchemyplus) (1.4)\n",
      "Requirement already satisfied: Jinja2>=2.10.1 in c:\\users\\hp\\anaconda3\\lib\\site-packages (from Flask>=0.10.1->flask_whooshalchemyplus) (2.10.1)\n",
      "Requirement already satisfied: itsdangerous>=0.24 in c:\\users\\hp\\anaconda3\\lib\\site-packages (from Flask>=0.10.1->flask_whooshalchemyplus) (1.1.0)\n",
      "Requirement already satisfied: click>=5.1 in c:\\users\\hp\\anaconda3\\lib\\site-packages (from Flask>=0.10.1->flask_whooshalchemyplus) (7.0)\n",
      "Requirement already satisfied: Werkzeug>=0.15 in c:\\users\\hp\\anaconda3\\lib\\site-packages (from Flask>=0.10.1->flask_whooshalchemyplus) (0.15.4)\n",
      "Requirement already satisfied: SQLAlchemy>=0.8.0 in c:\\users\\hp\\anaconda3\\lib\\site-packages (from Flask-SQLAlchemy>=1.0->flask_whooshalchemyplus) (1.3.5)\n",
      "Requirement already satisfied: MarkupSafe>=0.23 in c:\\users\\hp\\anaconda3\\lib\\site-packages (from Jinja2>=2.10.1->Flask>=0.10.1->flask_whooshalchemyplus) (1.1.1)\n",
      "Building wheels for collected packages: flask-whooshalchemyplus\n",
      "  Building wheel for flask-whooshalchemyplus (setup.py): started\n",
      "  Building wheel for flask-whooshalchemyplus (setup.py): finished with status 'done'\n",
      "  Stored in directory: C:\\Users\\hp\\AppData\\Local\\pip\\Cache\\wheels\\a7\\d4\\d3\\4d10aa53d2e22e869dd0869a67657b5da98d3e11b10d099a73\n",
      "Successfully built flask-whooshalchemyplus\n",
      "Installing collected packages: flask-whooshalchemyplus\n",
      "Successfully installed flask-whooshalchemyplus-0.7.4\n",
      "Note: you may need to restart the kernel to use updated packages.\n"
     ]
    }
   ],
   "source": [
    "pip install flask_whooshalchemyplus"
   ]
  },
  {
   "cell_type": "code",
   "execution_count": null,
   "metadata": {},
   "outputs": [],
   "source": []
  }
 ],
 "metadata": {
  "kernelspec": {
   "display_name": "Python 3",
   "language": "python",
   "name": "python3"
  },
  "language_info": {
   "codemirror_mode": {
    "name": "ipython",
    "version": 3
   },
   "file_extension": ".py",
   "mimetype": "text/x-python",
   "name": "python",
   "nbconvert_exporter": "python",
   "pygments_lexer": "ipython3",
   "version": "3.7.3"
  }
 },
 "nbformat": 4,
 "nbformat_minor": 2
}
